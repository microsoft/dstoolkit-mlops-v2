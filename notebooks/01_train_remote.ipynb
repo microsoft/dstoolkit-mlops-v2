{
 "cells": [
  {
   "cell_type": "markdown",
   "metadata": {},
   "source": [
    "Copyright (c) Microsoft Corporation. All rights reserved.\n",
    "\n",
    "Licensed under the MIT License."
   ]
  },
  {
   "cell_type": "markdown",
   "metadata": {},
   "source": [
    "\n",
    "**Motivations** - This notebook explains how to setup and run a Command. The Command is a fundamental construct of Azure Machine Learning. It can be used to run a task on a specified compute (either local or on the cloud). The Command accepts `environment` and `compute` to setup required infrastructure. You can define a `command` to run on this infrastructure with `inputs`.\n",
    "\n",
    "## Import the required libraries"
   ]
  },
  {
   "cell_type": "code",
   "execution_count": 1,
   "metadata": {},
   "outputs": [],
   "source": [
    "# Import required libraries\n",
    "from azure.ai.ml import MLClient\n",
    "from azure.ai.ml.entities import Workspace\n",
    "from azure.identity import DefaultAzureCredential\n",
    "import mlflow\n",
    "\n",
    "from azure.ai.ml import command\n",
    "from azure.ai.ml.entities import Data\n",
    "from azure.ai.ml import Input, Output\n",
    "from azure.ai.ml.constants import AssetTypes\n"
   ]
  },
  {
   "cell_type": "markdown",
   "metadata": {},
   "source": [
    "# Connect to Azure Machine Learning Workspace\n",
    "\n",
    "The [workspace](https://docs.microsoft.com/en-us/azure/machine-learning/concept-workspace) is the top-level resource for Azure Machine Learning, providing a centralized place to work with all the artifacts you create when you use Azure Machine Learning. In this section we will connect to the workspace in which the job will be run."
   ]
  },
  {
   "cell_type": "code",
   "execution_count": 2,
   "metadata": {},
   "outputs": [],
   "source": [
    "# load enter details of your AML workspace from .env file\n",
    "from dotenv import load_dotenv\n",
    "import os\n",
    "\n",
    "load_dotenv()\n",
    "\n",
    "subscription_id = os.environ.get(\"subscription_id\")\n",
    "resource_group = os.environ.get(\"resource_group\")\n",
    "workspace = os.environ.get(\"workspace\")\n",
    "\n",
    "# get a handle to the workspace\n",
    "ml_client = MLClient(\n",
    "    DefaultAzureCredential(), \n",
    "    subscription_id=subscription_id,\n",
    "    resource_group_name=resource_group,\n",
    "    workspace_name=workspace\n",
    ")"
   ]
  },
  {
   "cell_type": "markdown",
   "metadata": {},
   "source": [
    "# 2. Configure and run the Command\n",
    "In this section we will configure and run a standalone job using the `command` class. The `command` class can be used to run standalone jobs and can also be used as a function inside pipelines.\n",
    "\n",
    "## 2.1 Configure the Command\n",
    "The `command` allows user to configure the following key aspects.\n",
    "- `code` - This is the path where the code to run the command is located\n",
    "- `command` - This is the command that needs to be run\n",
    "- `inputs` - This is the dictionary of inputs using name value pairs to the command. The key is a name for the input within the context of the job and the value is the input value. Inputs can be referenced in the `command` using the `${{inputs.<input_name>}}` expression. To use files or folders as inputs, we can use the `Input` class. The `Input` class supports three parameters:\n",
    "    - `type` - The type of input. This can be a `uri_file` or `uri_folder`. The default is `uri_folder`.         \n",
    "    - `path` - The path to the file or folder. These can be local or remote files or folders. For remote files - http/https, wasb are supported. \n",
    "        - Azure ML `data`/`dataset` or `datastore` are of type `uri_folder`. To use `data`/`dataset` as input, you can use registered dataset in the workspace using the format '<data_name>:<version>'. For e.g Input(type='uri_folder', path='my_dataset:1')\n",
    "    - `mode` - \tMode of how the data should be delivered to the compute target. Allowed values are `ro_mount`, `rw_mount` and `download`. Default is `ro_mount`\n",
    "- `environment` - This is the environment needed for the command to run. Curated or custom environments from the workspace can be used. Or a custom environment can be created and used as well. Check out the [environment](../../../../assets/environment/environment.ipynb) notebook for more examples.\n",
    "- `compute` - The compute on which the command will run. In this example we are using a compute called `cpu-cluster` present in the workspace. You can replace it any other compute in the workspace. You can run it on the local machine by using `local` for the compute. This will run the command on the local machine and all the run details and output of the job will be uploaded to the Azure ML workspace.\n",
    "- `distribution` - Distribution configuration for distributed training scenarios. Azure Machine Learning supports PyTorch, TensorFlow, and MPI-based distributed training. The allowed values are `PyTorch`, `TensorFlow` or `Mpi`.\n",
    "- `display_name` - The display name of the Job\n",
    "- `description` - The description of the experiment"
   ]
  },
  {
   "cell_type": "code",
   "execution_count": 3,
   "metadata": {},
   "outputs": [],
   "source": [
    "exp_name = \"iris-example\"\n",
    "compute_name = \"cpu-cluster\"\n",
    "env_name = \"AzureML-sklearn-1.0-ubuntu20.04-py38-cpu:1\"\n",
    "\n",
    "code_dir = './src/train'\n",
    "model_name = \"\"\n",
    "model_output_dir = 'outputs/'\n",
    "dataset_name = \"\"\n",
    "artifact_path = \"model\""
   ]
  },
  {
   "cell_type": "code",
   "execution_count": 4,
   "metadata": {},
   "outputs": [
    {
     "name": "stderr",
     "output_type": "stream",
     "text": [
      "\u001b[32mUploading iris.csv\u001b[32m (< 1 MB): 100%|█████████████████████████████████████████████████████████████████████████████████████████████████████████████████████████████████████████████████████████████████████████████████████████████████████████████████████████████████████████████████████████████████████████████████████████████████████████████████████████████████████████████████████████████████████████████████████████████████████████████████████████████████████████████████████████████████████████████████████████████████████████████████████████████████████████████████████████████████████████████████████████████████████████████████████████████████████████████████████████████████████████████████████████████████████████████████████████████████████████████████████████████████████████████████████████████████████████████████████████████████████████████████████████████████████████████████████████████████████████████████████████████████████████████████████████████████| 3.88k/3.88k [00:00<00:00, 407kB/s]\u001b[0m\n",
      "\u001b[39m\n",
      "\n"
     ]
    },
    {
     "name": "stdout",
     "output_type": "stream",
     "text": [
      "Submitted job run with ID: /subscriptions/f804f2da-c27b-45ac-bf80-16d4d331776d/resourceGroups/rg-mlopsv2clas-505prod/providers/Microsoft.MachineLearningServices/workspaces/mlw-mlopsv2clas-505prod/jobs/lemon_net_2wttv098sl\n"
     ]
    },
    {
     "ename": "AttributeError",
     "evalue": "'JobOperations' object has no attribute 'studio_url'",
     "output_type": "error",
     "traceback": [
      "\u001b[0;31m---------------------------------------------------------------------------\u001b[0m",
      "\u001b[0;31mAttributeError\u001b[0m                            Traceback (most recent call last)",
      "\u001b[1;32m/home/azureuser/cloudfiles/code/dstoolkit-mlops-v2/notebooks/01_train_remote.ipynb Cell 8\u001b[0m in \u001b[0;36m<cell line: 28>\u001b[0;34m()\u001b[0m\n\u001b[1;32m     <a href='vscode-notebook-cell://amlext%2B2f737562736372697074696f6e732f66383034663264612d633237622d343561632d626638302d3136643464333331373736642f7265736f7572636547726f7570732f72672d6d6c6f70737632636c61732d35303570726f642f70726f7669646572732f4d6963726f736f66742e4d616368696e654c6561726e696e6753657276696365732f776f726b7370616365732f6d6c772d6d6c6f70737632636c61732d35303570726f642f636f6d70757465732f616c6962696e6138/home/azureuser/cloudfiles/code/dstoolkit-mlops-v2/notebooks/01_train_remote.ipynb#X53sdnNjb2RlLXJlbW90ZQ%3D%3D?line=24'>25</a>\u001b[0m \u001b[39mprint\u001b[39m(\u001b[39mf\u001b[39m\u001b[39m\"\u001b[39m\u001b[39mSubmitted job run with ID: \u001b[39m\u001b[39m{\u001b[39;00mrunid\u001b[39m}\u001b[39;00m\u001b[39m\"\u001b[39m)\n\u001b[1;32m     <a href='vscode-notebook-cell://amlext%2B2f737562736372697074696f6e732f66383034663264612d633237622d343561632d626638302d3136643464333331373736642f7265736f7572636547726f7570732f72672d6d6c6f70737632636c61732d35303570726f642f70726f7669646572732f4d6963726f736f66742e4d616368696e654c6561726e696e6753657276696365732f776f726b7370616365732f6d6c772d6d6c6f70737632636c61732d35303570726f642f636f6d70757465732f616c6962696e6138/home/azureuser/cloudfiles/code/dstoolkit-mlops-v2/notebooks/01_train_remote.ipynb#X53sdnNjb2RlLXJlbW90ZQ%3D%3D?line=26'>27</a>\u001b[0m \u001b[39m# get a URL for the status of the job\u001b[39;00m\n\u001b[0;32m---> <a href='vscode-notebook-cell://amlext%2B2f737562736372697074696f6e732f66383034663264612d633237622d343561632d626638302d3136643464333331373736642f7265736f7572636547726f7570732f72672d6d6c6f70737632636c61732d35303570726f642f70726f7669646572732f4d6963726f736f66742e4d616368696e654c6561726e696e6753657276696365732f776f726b7370616365732f6d6c772d6d6c6f70737632636c61732d35303570726f642f636f6d70757465732f616c6962696e6138/home/azureuser/cloudfiles/code/dstoolkit-mlops-v2/notebooks/01_train_remote.ipynb#X53sdnNjb2RlLXJlbW90ZQ%3D%3D?line=27'>28</a>\u001b[0m ml_client\u001b[39m.\u001b[39;49mjobs\u001b[39m.\u001b[39;49mstudio_url\n",
      "\u001b[0;31mAttributeError\u001b[0m: 'JobOperations' object has no attribute 'studio_url'"
     ]
    }
   ],
   "source": [
    "\n",
    "\n",
    "inputs = {\n",
    "    \"input_data\": Input(type=AssetTypes.URI_FILE, path=\"./data/iris.csv\"),\n",
    "    \"C\": 0.8,\n",
    "    \"kernel\": \"rbf\",\n",
    "    \"coef0\": 0.1,\n",
    "}\n",
    "\n",
    "# create the command\n",
    "job = command(\n",
    "    code=code_dir,  # local path where the code is stored\n",
    "    command=\"python train.py --iris-csv ${{inputs.input_data}} --C ${{inputs.C}} --kernel ${{inputs.kernel}} --coef0 ${{inputs.coef0}}\",\n",
    "    inputs=inputs,\n",
    "    environment=env_name,\n",
    "    compute=compute_name,\n",
    "    display_name=exp_name,\n",
    "    experiment_name=exp_name,\n",
    "    description=\"Train a model on the Iris dataset\",\n",
    ")\n",
    "\n",
    "# submit the command\n",
    "returned_job = ml_client.create_or_update(job)\n",
    "\n",
    "# print run id\n",
    "runid=returned_job.id\n",
    "print(f\"Submitted job run with ID: {runid}\")\n",
    "\n",
    "# get a URL for the status of the job\n",
    "ml_client.jobs.studio_url\n",
    "\n"
   ]
  },
  {
   "cell_type": "markdown",
   "metadata": {},
   "source": []
  },
  {
   "cell_type": "code",
   "execution_count": null,
   "metadata": {},
   "outputs": [
    {
     "name": "stdout",
     "output_type": "stream",
     "text": [
      "Run is in status: Completed\n"
     ]
    }
   ],
   "source": [
    "import time\n",
    "from IPython.display import clear_output\n",
    "from termcolor import colored\n",
    "\n",
    "isFinish = False\n",
    "while not isFinish:\n",
    "    status = ml_client.jobs.get(returned_job.name).status\n",
    "    # if run is still running or starting, print status\n",
    "    if status == \"Running\":\n",
    "        clear_output(wait=True)\n",
    "        print(colored(f\"Run is in status: {status}\", \"yellow\"))\n",
    "        time.sleep(10)\n",
    "    if status == \"Starting\":\n",
    "        clear_output(wait=True)\n",
    "        print(colored(f\"Run is in status: {status}\", \"yellow\", attrs=['bold']))\n",
    "        time.sleep(10)\n",
    "    elif status == \"Finished\":\n",
    "        clear_output(wait=True)\n",
    "        print(colored(\"Run is finished!\", \"green\"))\n",
    "        isFinish = True\n",
    "    else:\n",
    "        clear_output(wait=True)\n",
    "        print(colored(f\"Run is in status: {status}\", \"red\"))\n",
    "        isFinish = True\n"
   ]
  },
  {
   "cell_type": "code",
   "execution_count": 6,
   "metadata": {},
   "outputs": [
    {
     "data": {
      "text/html": [
       "<table style=\"width:100%\"><tr><th>Experiment</th><th>Name</th><th>Type</th><th>Status</th><th>Details Page</th></tr><tr><td>iris-example</td><td>lemon_net_2wttv098sl</td><td>command</td><td>Completed</td><td><a href=\"https://ml.azure.com/runs/lemon_net_2wttv098sl?wsid=/subscriptions/f804f2da-c27b-45ac-bf80-16d4d331776d/resourcegroups/rg-mlopsv2clas-505prod/workspaces/mlw-mlopsv2clas-505prod&amp;tid=16b3c013-d300-468d-ac64-7eda0820b6d3\" target=\"_blank\" rel=\"noopener\">Link to Azure Machine Learning studio</a></td></tr></table>"
      ],
      "text/plain": [
       "Command({'parameters': {'C': '0.8', 'break_ties': 'False', 'cache_size': '1024', 'class_weight': 'None', 'coef0': '0.1', 'decision_function_shape': 'ovr', 'degree': '3', 'gamma': 'scale', 'kernel': 'rbf', 'max_iter': '-1', 'probability': 'False', 'random_state': '42', 'shrinking': 'False', 'tol': '0.001', 'verbose': 'False'}, 'init': False, 'type': 'command', 'status': 'Completed', 'log_files': None, 'name': 'lemon_net_2wttv098sl', 'description': 'Train a model on the Iris dataset', 'tags': {'_aml_system_ComputeTargetStatus': '{\"AllocationState\":\"steady\",\"PreparingNodeCount\":0,\"RunningNodeCount\":0,\"CurrentNodeCount\":0}', 'mlflow.autologging': 'sklearn', 'estimator_name': 'SVC', 'estimator_class': 'sklearn.svm._classes.SVC'}, 'properties': {'mlflow.source.git.repoURL': 'https://github.com/iAli61/dstoolkit-mlops-v2.git', 'mlflow.source.git.branch': 'convert_notebookV2', 'mlflow.source.git.commit': '3aa46ee1213676b24bf05233838813b9aa9254fc', 'azureml.git.dirty': 'True', '_azureml.ComputeTargetType': 'amlctrain', 'ContentSnapshotId': 'f04e3ec5-2686-4110-b869-abc1c0bfcaa1', 'ProcessInfoFile': 'azureml-logs/process_info.json', 'ProcessStatusFile': 'azureml-logs/process_status.json'}, 'id': '/subscriptions/f804f2da-c27b-45ac-bf80-16d4d331776d/resourceGroups/rg-mlopsv2clas-505prod/providers/Microsoft.MachineLearningServices/workspaces/mlw-mlopsv2clas-505prod/jobs/lemon_net_2wttv098sl', 'Resource__source_path': None, 'base_path': '/mnt/batch/tasks/shared/LS_root/mounts/clusters/alibina8/code/dstoolkit-mlops-v2/notebooks', 'creation_context': <azure.ai.ml.entities._system_data.SystemData object at 0x7f0db655cb20>, 'serialize': <msrest.serialization.Serializer object at 0x7f0db6519f90>, 'allowed_keys': {}, 'key_restriction': False, 'logger': <Logger attr_dict (WARNING)>, 'display_name': 'iris-example', 'experiment_name': 'iris-example', 'compute': 'cpu-cluster', 'services': {'Tracking': <azure.ai.ml.entities._job.job_service.JobService object at 0x7f0db668a1d0>, 'Studio': <azure.ai.ml.entities._job.job_service.JobService object at 0x7f0db66885b0>}, 'comment': None, 'job_inputs': {'input_data': {'type': 'uri_file', 'path': 'azureml://datastores/workspaceblobstore/paths/LocalUpload/a452b6614328f8508b5bd4f282e9ec5f/iris.csv', 'mode': 'ro_mount'}, 'C': '0.8', 'kernel': 'rbf', 'coef0': '0.1'}, 'job_outputs': {'default': {'type': 'uri_folder', 'path': 'azureml://datastores/workspaceartifactstore/ExperimentRun/dcid.lemon_net_2wttv098sl', 'mode': 'rw_mount'}}, 'inputs': {'input_data': <azure.ai.ml.entities._job.pipeline._io.base.NodeInput object at 0x7f0db65195a0>, 'C': <azure.ai.ml.entities._job.pipeline._io.base.NodeInput object at 0x7f0dbc353a60>, 'kernel': <azure.ai.ml.entities._job.pipeline._io.base.NodeInput object at 0x7f0dbc353130>, 'coef0': <azure.ai.ml.entities._job.pipeline._io.base.NodeInput object at 0x7f0dbc350a00>}, 'outputs': {'default': <azure.ai.ml.entities._job.pipeline._io.base.NodeOutput object at 0x7f0dbc353580>}, 'component': CommandComponent({'auto_increment_version': True, 'source': 'REMOTE.WORKSPACE.JOB', 'is_anonymous': False, 'name': 'lemon_net_2wttv098sl', 'description': 'Train a model on the Iris dataset', 'tags': {'_aml_system_ComputeTargetStatus': '{\"AllocationState\":\"steady\",\"PreparingNodeCount\":0,\"RunningNodeCount\":0,\"CurrentNodeCount\":0}', 'mlflow.autologging': 'sklearn', 'estimator_name': 'SVC', 'estimator_class': 'sklearn.svm._classes.SVC'}, 'properties': {}, 'id': None, 'Resource__source_path': None, 'base_path': PosixPath('.'), 'creation_context': <azure.ai.ml.entities._system_data.SystemData object at 0x7f0db655cb20>, 'serialize': <msrest.serialization.Serializer object at 0x7f0dbd5cf3d0>, 'command': 'python train.py --iris-csv ${{inputs.input_data}} --C ${{inputs.C}} --kernel ${{inputs.kernel}} --coef0 ${{inputs.coef0}}', 'code': '/subscriptions/f804f2da-c27b-45ac-bf80-16d4d331776d/resourceGroups/rg-mlopsv2clas-505prod/providers/Microsoft.MachineLearningServices/workspaces/mlw-mlopsv2clas-505prod/codes/c0dd032c-6e64-4555-89fd-cd3a66522d37/versions/1', 'environment_variables': {}, 'environment': 'azureml:AzureML-sklearn-1.0-ubuntu20.04-py38-cpu:1', 'distribution': None, 'resources': None, 'version': None, 'latest_version': None, 'schema': None, 'type': 'command', 'display_name': 'iris-example', 'is_deterministic': True, 'inputs': {'input_data': {'type': 'uri_file', 'path': 'azureml://datastores/workspaceblobstore/paths/LocalUpload/a452b6614328f8508b5bd4f282e9ec5f/iris.csv', 'mode': 'ro_mount'}, 'C': {'type': 'string', 'default': '0.8'}, 'kernel': {'type': 'string', 'default': 'rbf'}, 'coef0': {'type': 'string', 'default': '0.1'}}, 'outputs': {'default': {'type': 'uri_folder', 'path': 'azureml://datastores/workspaceartifactstore/ExperimentRun/dcid.lemon_net_2wttv098sl', 'mode': 'rw_mount'}}, 'yaml_str': None, 'other_parameter': {'status': 'Completed', 'parameters': {'C': '0.8', 'break_ties': 'False', 'cache_size': '1024', 'class_weight': 'None', 'coef0': '0.1', 'decision_function_shape': 'ovr', 'degree': '3', 'gamma': 'scale', 'kernel': 'rbf', 'max_iter': '-1', 'probability': 'False', 'random_state': '42', 'shrinking': 'False', 'tol': '0.001', 'verbose': 'False'}}}), 'referenced_control_flow_node_instance_id': None, 'kwargs': {'services': {'Tracking': <azure.ai.ml.entities._job.job_service.JobService object at 0x7f0db668a1d0>, 'Studio': <azure.ai.ml.entities._job.job_service.JobService object at 0x7f0db66885b0>}, 'status': 'Completed', 'creation_context': <azure.ai.ml.entities._system_data.SystemData object at 0x7f0db655cb20>}, 'instance_id': '7dfbe727-6207-411f-9913-2016f2cc0590', 'source': 'BUILDER', 'limits': None, 'identity': None, 'distribution': None, 'environment_variables': {}, 'environment': 'azureml:AzureML-sklearn-1.0-ubuntu20.04-py38-cpu:1', 'resources': {'instance_count': 1, 'shm_size': '2g'}, 'swept': False})"
      ]
     },
     "execution_count": 6,
     "metadata": {},
     "output_type": "execute_result"
    }
   ],
   "source": [
    "run = ml_client.jobs.get(returned_job.name)\n",
    "run"
   ]
  },
  {
   "cell_type": "code",
   "execution_count": 14,
   "metadata": {},
   "outputs": [],
   "source": [
    "from azure.ai.ml.entities import  Model"
   ]
  },
  {
   "cell_type": "markdown",
   "metadata": {},
   "source": [
    "# register the model"
   ]
  },
  {
   "cell_type": "code",
   "execution_count": 16,
   "metadata": {},
   "outputs": [
    {
     "data": {
      "text/plain": [
       "Model({'job_name': 'lemon_net_2wttv098sl', 'is_anonymous': False, 'auto_increment_version': False, 'name': 'sklearn-iris-model', 'description': None, 'tags': {}, 'properties': {}, 'id': '/subscriptions/f804f2da-c27b-45ac-bf80-16d4d331776d/resourceGroups/rg-mlopsv2clas-505prod/providers/Microsoft.MachineLearningServices/workspaces/mlw-mlopsv2clas-505prod/models/sklearn-iris-model/versions/1', 'Resource__source_path': None, 'base_path': '/mnt/batch/tasks/shared/LS_root/mounts/clusters/alibina8/code/dstoolkit-mlops-v2/notebooks', 'creation_context': <azure.ai.ml.entities._system_data.SystemData object at 0x7f0db675b880>, 'serialize': <msrest.serialization.Serializer object at 0x7f0db675b7f0>, 'version': '1', 'latest_version': None, 'path': 'azureml://subscriptions/f804f2da-c27b-45ac-bf80-16d4d331776d/resourceGroups/rg-mlopsv2clas-505prod/workspaces/mlw-mlopsv2clas-505prod/datastores/workspaceartifactstore/paths/ExperimentRun/dcid.lemon_net_2wttv098sl/model', 'datastore': None, 'utc_time_created': None, 'flavors': {'python_function': {'env': 'conda.yaml', 'loader_module': 'mlflow.sklearn', 'model_path': 'model.pkl', 'python_version': '3.8.5'}, 'sklearn': {'pickled_model': 'model.pkl', 'serialization_format': 'cloudpickle', 'sklearn_version': '1.0.1'}}, 'arm_type': 'model_version', 'type': 'mlflow_model'})"
      ]
     },
     "execution_count": 16,
     "metadata": {},
     "output_type": "execute_result"
    }
   ],
   "source": [
    "\n",
    "MODEL_PATH = \"model\"\n",
    "\n",
    "model_name = 'sklearn-iris-model'\n",
    "\n",
    "ml_client.models.create_or_update(\n",
    "    Model(\n",
    "        path=f\"azureml://jobs/{returned_job.name}/outputs/artifacts/{MODEL_PATH}\",\n",
    "        name=model_name,\n",
    "        type=AssetTypes.MLFLOW_MODEL\n",
    "    )\n",
    ") "
   ]
  },
  {
   "cell_type": "code",
   "execution_count": null,
   "metadata": {},
   "outputs": [],
   "source": []
  }
 ],
 "metadata": {
  "kernelspec": {
   "display_name": "Python 3",
   "language": "python",
   "name": "python3"
  },
  "language_info": {
   "codemirror_mode": {
    "name": "ipython",
    "version": 3
   },
   "file_extension": ".py",
   "mimetype": "text/x-python",
   "name": "python",
   "nbconvert_exporter": "python",
   "pygments_lexer": "ipython3",
   "version": "3.10.6"
  },
  "orig_nbformat": 2
 },
 "nbformat": 4,
 "nbformat_minor": 2
}
