{
 "cells": [
  {
   "cell_type": "markdown",
   "metadata": {},
   "source": [
    "Copyright (c) Microsoft Corporation. All rights reserved.\n",
    "\n",
    "Licensed under the MIT License."
   ]
  },
  {
   "cell_type": "markdown",
   "metadata": {},
   "source": [
    "\n",
    "**Motivations** - This notebook explains how to setup and run a Command. The Command is a fundamental construct of Azure Machine Learning. It can be used to run a task on a specified compute (either local or on the cloud). The Command accepts `environment` and `compute` to setup required infrastructure. You can define a `command` to run on this infrastructure with `inputs`.\n",
    "\n",
    "## Import the required libraries"
   ]
  },
  {
   "cell_type": "code",
   "execution_count": 1,
   "metadata": {},
   "outputs": [],
   "source": [
    "# Import required libraries\n",
    "from azure.ai.ml import MLClient\n",
    "from azure.ai.ml.entities import Workspace\n",
    "from azure.identity import DefaultAzureCredential\n",
    "import mlflow\n",
    "\n",
    "from azure.ai.ml import command\n",
    "from azure.ai.ml.entities import Data\n",
    "from azure.ai.ml import Input, Output\n",
    "from azure.ai.ml.constants import AssetTypes\n",
    "\n",
    "\n",
    "from azure.ai.ml.entities import  Model\n"
   ]
  },
  {
   "cell_type": "markdown",
   "metadata": {},
   "source": [
    "# Connect to Azure Machine Learning Workspace\n",
    "\n",
    "The [workspace](https://docs.microsoft.com/en-us/azure/machine-learning/concept-workspace) is the top-level resource for Azure Machine Learning, providing a centralized place to work with all the artifacts you create when you use Azure Machine Learning. In this section we will connect to the workspace in which the job will be run."
   ]
  },
  {
   "cell_type": "code",
   "execution_count": 2,
   "metadata": {},
   "outputs": [],
   "source": [
    "# load enter details of your AML workspace from .env file\n",
    "from dotenv import load_dotenv\n",
    "import os\n",
    "\n",
    "load_dotenv()\n",
    "\n",
    "subscription_id = os.environ.get(\"subscription_id\")\n",
    "resource_group = os.environ.get(\"resource_group\")\n",
    "workspace = os.environ.get(\"workspace\")\n",
    "\n",
    "# get a handle to the workspace\n",
    "ml_client = MLClient(\n",
    "    DefaultAzureCredential(), \n",
    "    subscription_id=subscription_id,\n",
    "    resource_group_name=resource_group,\n",
    "    workspace_name=workspace\n",
    ")"
   ]
  },
  {
   "cell_type": "markdown",
   "metadata": {},
   "source": [
    "# 2. Configure and run the Command\n",
    "In this section we will configure and run a standalone job using the `command` class. The `command` class can be used to run standalone jobs and can also be used as a function inside pipelines.\n",
    "\n",
    "## 2.1 Configure the Command\n",
    "The `command` allows user to configure the following key aspects.\n",
    "- `code` - This is the path where the code to run the command is located\n",
    "- `command` - This is the command that needs to be run\n",
    "- `inputs` - This is the dictionary of inputs using name value pairs to the command. The key is a name for the input within the context of the job and the value is the input value. Inputs can be referenced in the `command` using the `${{inputs.<input_name>}}` expression. To use files or folders as inputs, we can use the `Input` class. The `Input` class supports three parameters:\n",
    "    - `type` - The type of input. This can be a `uri_file` or `uri_folder`. The default is `uri_folder`.         \n",
    "    - `path` - The path to the file or folder. These can be local or remote files or folders. For remote files - http/https, wasb are supported. \n",
    "        - Azure ML `data`/`dataset` or `datastore` are of type `uri_folder`. To use `data`/`dataset` as input, you can use registered dataset in the workspace using the format '<data_name>:<version>'. For e.g Input(type='uri_folder', path='my_dataset:1')\n",
    "    - `mode` - \tMode of how the data should be delivered to the compute target. Allowed values are `ro_mount`, `rw_mount` and `download`. Default is `ro_mount`\n",
    "- `environment` - This is the environment needed for the command to run. Curated or custom environments from the workspace can be used. Or a custom environment can be created and used as well. Check out the [environment](../../../../assets/environment/environment.ipynb) notebook for more examples.\n",
    "- `compute` - The compute on which the command will run. In this example we are using a compute called `cpu-cluster` present in the workspace. You can replace it any other compute in the workspace. You can run it on the local machine by using `local` for the compute. This will run the command on the local machine and all the run details and output of the job will be uploaded to the Azure ML workspace.\n",
    "- `distribution` - Distribution configuration for distributed training scenarios. Azure Machine Learning supports PyTorch, TensorFlow, and MPI-based distributed training. The allowed values are `PyTorch`, `TensorFlow` or `Mpi`.\n",
    "- `display_name` - The display name of the Job\n",
    "- `description` - The description of the experiment"
   ]
  },
  {
   "cell_type": "code",
   "execution_count": 3,
   "metadata": {},
   "outputs": [],
   "source": [
    "exp_name = \"iris-example\"\n",
    "compute_name = \"cpu-cluster\"\n",
    "env_name = \"AzureML-sklearn-1.0-ubuntu20.04-py38-cpu:1\"\n",
    "\n",
    "code_dir = './src/train'\n",
    "model_name = \"\"\n",
    "model_output_dir = 'outputs/'\n",
    "dataset_name = \"\"\n",
    "artifact_path = \"model\""
   ]
  },
  {
   "cell_type": "code",
   "execution_count": 4,
   "metadata": {},
   "outputs": [
    {
     "name": "stderr",
     "output_type": "stream",
     "text": [
      "Class AutoDeleteSettingSchema: This is an experimental class, and may change at any time. Please see https://aka.ms/azuremlexperimental for more information.\n",
      "Class AutoDeleteConditionSchema: This is an experimental class, and may change at any time. Please see https://aka.ms/azuremlexperimental for more information.\n",
      "Class BaseAutoDeleteSettingSchema: This is an experimental class, and may change at any time. Please see https://aka.ms/azuremlexperimental for more information.\n",
      "Class IntellectualPropertySchema: This is an experimental class, and may change at any time. Please see https://aka.ms/azuremlexperimental for more information.\n",
      "Class ProtectionLevelSchema: This is an experimental class, and may change at any time. Please see https://aka.ms/azuremlexperimental for more information.\n",
      "Class BaseIntellectualPropertySchema: This is an experimental class, and may change at any time. Please see https://aka.ms/azuremlexperimental for more information.\n"
     ]
    },
    {
     "name": "stdout",
     "output_type": "stream",
     "text": [
      "Submitted job run with ID: /subscriptions/f804f2da-c27b-45ac-bf80-16d4d331776d/resourceGroups/rg-mlopsv2clas-505prod/providers/Microsoft.MachineLearningServices/workspaces/mlw-mlopsv2clas-505prod/jobs/dynamic_crowd_dwd82ywvxq\n"
     ]
    }
   ],
   "source": [
    "\n",
    "\n",
    "inputs = {\n",
    "    \"input_data\": Input(type=AssetTypes.URI_FILE, path=\"./data/iris.csv\"),\n",
    "    \"C\": 0.8,\n",
    "    \"kernel\": \"rbf\",\n",
    "    \"coef0\": 0.1,\n",
    "}\n",
    "\n",
    "# create the command\n",
    "job = command(\n",
    "    code=code_dir,  # local path where the code is stored\n",
    "    command=\"python train.py --iris-csv ${{inputs.input_data}} --C ${{inputs.C}} --kernel ${{inputs.kernel}} --coef0 ${{inputs.coef0}}\",\n",
    "    inputs=inputs,\n",
    "    environment=env_name,\n",
    "    compute=compute_name,\n",
    "    display_name=exp_name,\n",
    "    experiment_name=exp_name,\n",
    "    description=\"Train a model on the Iris dataset\",\n",
    ")\n",
    "\n",
    "# submit the command\n",
    "returned_job = ml_client.create_or_update(job)\n",
    "\n",
    "# print run id\n",
    "runid=returned_job.id\n",
    "print(f\"Submitted job run with ID: {runid}\")\n",
    "\n",
    "\n"
   ]
  },
  {
   "cell_type": "code",
   "execution_count": 11,
   "metadata": {},
   "outputs": [
    {
     "name": "stdout",
     "output_type": "stream",
     "text": [
      "Run is in status: Running\n"
     ]
    }
   ],
   "source": [
    "import time\n",
    "from IPython.display import clear_output\n",
    "from termcolor import colored\n",
    "\n",
    "isFinish = False\n",
    "while not isFinish:\n",
    "    status = ml_client.jobs.get(returned_job.name).status\n",
    "    # if run is still running or starting, print status\n",
    "    if status == \"Running\":\n",
    "        clear_output(wait=True)\n",
    "        print(colored(f\"Run is in status: {status}\", \"yellow\"))\n",
    "        time.sleep(10)\n",
    "    if status == \"Starting\" or status == \"Queued\":\n",
    "        clear_output(wait=True)\n",
    "        print(colored(f\"Run is in status: {status}\", \"yellow\", attrs=['bold']))\n",
    "        time.sleep(10)\n",
    "    elif status == \"Finished\":\n",
    "        clear_output(wait=True)\n",
    "        print(colored(\"Run is finished!\", \"green\"))\n",
    "        isFinish = True\n",
    "    else:\n",
    "        clear_output(wait=True)\n",
    "        print(colored(f\"Run is in status: {status}\", \"red\"))\n",
    "        isFinish = True\n"
   ]
  },
  {
   "cell_type": "code",
   "execution_count": 10,
   "metadata": {},
   "outputs": [
    {
     "data": {
      "text/html": [
       "<table style=\"width:100%\"><tr><th>Experiment</th><th>Name</th><th>Type</th><th>Status</th><th>Details Page</th></tr><tr><td>iris-example</td><td>dynamic_crowd_dwd82ywvxq</td><td>command</td><td>Queued</td><td><a href=\"https://ml.azure.com/runs/dynamic_crowd_dwd82ywvxq?wsid=/subscriptions/f804f2da-c27b-45ac-bf80-16d4d331776d/resourcegroups/rg-mlopsv2clas-505prod/workspaces/mlw-mlopsv2clas-505prod&amp;tid=16b3c013-d300-468d-ac64-7eda0820b6d3\" target=\"_blank\" rel=\"noopener\">Link to Azure Machine Learning studio</a></td></tr></table>"
      ],
      "text/plain": [
       "Command({'parameters': {}, 'init': False, 'name': 'dynamic_crowd_dwd82ywvxq', 'type': 'command', 'status': 'Queued', 'log_files': None, 'description': 'Train a model on the Iris dataset', 'tags': {'_aml_system_ComputeTargetStatus': '{\"AllocationState\":\"steady\",\"PreparingNodeCount\":0,\"RunningNodeCount\":0,\"CurrentNodeCount\":0}'}, 'properties': {'mlflow.source.git.repoURL': 'https://github.com/iAli61/dstoolkit-mlops-v2.git', 'mlflow.source.git.branch': 'convert_notebookV2', 'mlflow.source.git.commit': 'ad3815976bf1e2f54474dc87e536e59962a1339b', 'azureml.git.dirty': 'True', '_azureml.ComputeTargetType': 'amlctrain', 'ContentSnapshotId': 'f04e3ec5-2686-4110-b869-abc1c0bfcaa1', 'ProcessInfoFile': 'azureml-logs/process_info.json', 'ProcessStatusFile': 'azureml-logs/process_status.json'}, 'print_as_yaml': True, 'id': '/subscriptions/f804f2da-c27b-45ac-bf80-16d4d331776d/resourceGroups/rg-mlopsv2clas-505prod/providers/Microsoft.MachineLearningServices/workspaces/mlw-mlopsv2clas-505prod/jobs/dynamic_crowd_dwd82ywvxq', 'Resource__source_path': None, 'base_path': '/mnt/batch/tasks/shared/LS_root/mounts/clusters/alibina8/code/dstoolkit-mlops-v2/notebooks', 'creation_context': <azure.ai.ml.entities._system_data.SystemData object at 0x7fbc95f4dd80>, 'serialize': <msrest.serialization.Serializer object at 0x7fbcf77a9450>, 'allowed_keys': {}, 'key_restriction': False, 'logger': <Logger attr_dict (WARNING)>, 'display_name': 'iris-example', 'experiment_name': 'iris-example', 'compute': 'cpu-cluster', 'services': {'Tracking': {'endpoint': 'azureml://westeurope.api.azureml.ms/mlflow/v1.0/subscriptions/f804f2da-c27b-45ac-bf80-16d4d331776d/resourceGroups/rg-mlopsv2clas-505prod/providers/Microsoft.MachineLearningServices/workspaces/mlw-mlopsv2clas-505prod?', 'type': 'Tracking'}, 'Studio': {'endpoint': 'https://ml.azure.com/runs/dynamic_crowd_dwd82ywvxq?wsid=/subscriptions/f804f2da-c27b-45ac-bf80-16d4d331776d/resourcegroups/rg-mlopsv2clas-505prod/workspaces/mlw-mlopsv2clas-505prod&tid=16b3c013-d300-468d-ac64-7eda0820b6d3', 'type': 'Studio'}}, 'comment': None, 'job_inputs': {'input_data': {'type': 'uri_file', 'path': 'azureml://datastores/workspaceblobstore/paths/LocalUpload/a452b6614328f8508b5bd4f282e9ec5f/iris.csv', 'mode': 'ro_mount'}, 'C': '0.8', 'kernel': 'rbf', 'coef0': '0.1'}, 'job_outputs': {'default': {'type': 'uri_folder', 'path': 'azureml://datastores/workspaceartifactstore/ExperimentRun/dcid.dynamic_crowd_dwd82ywvxq', 'mode': 'rw_mount'}}, 'inputs': {'input_data': <azure.ai.ml.entities._job.pipeline._io.base.NodeInput object at 0x7fbcf77ab5e0>, 'C': <azure.ai.ml.entities._job.pipeline._io.base.NodeInput object at 0x7fbcf77ab460>, 'kernel': <azure.ai.ml.entities._job.pipeline._io.base.NodeInput object at 0x7fbcf77ab9d0>, 'coef0': <azure.ai.ml.entities._job.pipeline._io.base.NodeInput object at 0x7fbc986f5f00>}, 'outputs': {'default': <azure.ai.ml.entities._job.pipeline._io.base.NodeOutput object at 0x7fbc986f5f90>}, 'component': CommandComponent({'intellectual_property': None, 'auto_increment_version': True, 'source': 'REMOTE.WORKSPACE.JOB', 'is_anonymous': False, 'auto_delete_setting': None, 'name': 'dynamic_crowd_dwd82ywvxq', 'description': 'Train a model on the Iris dataset', 'tags': {'_aml_system_ComputeTargetStatus': '{\"AllocationState\":\"steady\",\"PreparingNodeCount\":0,\"RunningNodeCount\":0,\"CurrentNodeCount\":0}'}, 'properties': {}, 'print_as_yaml': True, 'id': None, 'Resource__source_path': None, 'base_path': '/mnt/batch/tasks/shared/LS_root/mounts/clusters/alibina8/code/dstoolkit-mlops-v2/notebooks', 'creation_context': <azure.ai.ml.entities._system_data.SystemData object at 0x7fbc95f4dd80>, 'serialize': <msrest.serialization.Serializer object at 0x7fbcf77ab4c0>, 'command': 'python train.py --iris-csv ${{inputs.input_data}} --C ${{inputs.C}} --kernel ${{inputs.kernel}} --coef0 ${{inputs.coef0}}', 'code': '/subscriptions/f804f2da-c27b-45ac-bf80-16d4d331776d/resourceGroups/rg-mlopsv2clas-505prod/providers/Microsoft.MachineLearningServices/workspaces/mlw-mlopsv2clas-505prod/codes/c0dd032c-6e64-4555-89fd-cd3a66522d37/versions/1', 'environment_variables': {}, 'environment': 'azureml:AzureML-sklearn-1.0-ubuntu20.04-py38-cpu:1', 'distribution': None, 'resources': None, 'queue_settings': None, 'version': None, 'latest_version': None, 'schema': None, 'type': 'command', 'display_name': 'iris-example', 'is_deterministic': True, 'inputs': {'input_data': {'type': 'uri_file', 'path': 'azureml://datastores/workspaceblobstore/paths/LocalUpload/a452b6614328f8508b5bd4f282e9ec5f/iris.csv', 'mode': 'ro_mount'}, 'C': {'type': 'string', 'default': '0.8'}, 'kernel': {'type': 'string', 'default': 'rbf'}, 'coef0': {'type': 'string', 'default': '0.1'}}, 'outputs': {'default': {'type': 'uri_folder', 'path': 'azureml://datastores/workspaceartifactstore/ExperimentRun/dcid.dynamic_crowd_dwd82ywvxq', 'mode': 'rw_mount'}}, 'yaml_str': None, 'other_parameter': {'status': 'Queued', 'parameters': {}}, 'additional_includes': []}), 'referenced_control_flow_node_instance_id': None, 'kwargs': {'services': {'Tracking': {'endpoint': 'azureml://westeurope.api.azureml.ms/mlflow/v1.0/subscriptions/f804f2da-c27b-45ac-bf80-16d4d331776d/resourceGroups/rg-mlopsv2clas-505prod/providers/Microsoft.MachineLearningServices/workspaces/mlw-mlopsv2clas-505prod?', 'type': 'Tracking'}, 'Studio': {'endpoint': 'https://ml.azure.com/runs/dynamic_crowd_dwd82ywvxq?wsid=/subscriptions/f804f2da-c27b-45ac-bf80-16d4d331776d/resourcegroups/rg-mlopsv2clas-505prod/workspaces/mlw-mlopsv2clas-505prod&tid=16b3c013-d300-468d-ac64-7eda0820b6d3', 'type': 'Studio'}}, 'status': 'Queued', 'creation_context': <azure.ai.ml.entities._system_data.SystemData object at 0x7fbc95f4dd80>}, 'instance_id': '74405a8e-27c7-434b-a13d-b539f8814109', 'source': 'BUILDER', 'validate_required_input_not_provided': True, 'limits': None, 'identity': None, 'distribution': None, 'environment_variables': {}, 'environment': 'azureml:AzureML-sklearn-1.0-ubuntu20.04-py38-cpu:1', 'resources': {'instance_count': 1, 'shm_size': '2g'}, 'queue_settings': None, 'swept': False})"
      ]
     },
     "execution_count": 10,
     "metadata": {},
     "output_type": "execute_result"
    }
   ],
   "source": [
    "run = ml_client.jobs.get(returned_job.name)\n",
    "run"
   ]
  },
  {
   "cell_type": "markdown",
   "metadata": {},
   "source": [
    "# register the model"
   ]
  },
  {
   "cell_type": "code",
   "execution_count": 8,
   "metadata": {},
   "outputs": [
    {
     "ename": "HttpResponseError",
     "evalue": "(UserError) The request is invalid.\nCode: UserError\nMessage: The request is invalid.\nException Details:\t(NoMatchingArtifactsFoundFromJob) No artifacts matching model found from Job.\n\tCode: NoMatchingArtifactsFoundFromJob\n\tMessage: No artifacts matching model found from Job.\nAdditional Information:Type: ComponentName\nInfo: {\n    \"value\": \"managementfrontend\"\n}Type: Correlation\nInfo: {\n    \"value\": {\n        \"operation\": \"0666f2327249755dbc410a12b6193d03\",\n        \"request\": \"66b362c71ced1314\"\n    }\n}Type: Environment\nInfo: {\n    \"value\": \"westeurope\"\n}Type: Location\nInfo: {\n    \"value\": \"westeurope\"\n}Type: Time\nInfo: {\n    \"value\": \"2023-07-31T06:29:05.9645443+00:00\"\n}",
     "output_type": "error",
     "traceback": [
      "\u001b[0;31m---------------------------------------------------------------------------\u001b[0m",
      "\u001b[0;31mHttpResponseError\u001b[0m                         Traceback (most recent call last)",
      "\u001b[1;32m/home/azureuser/cloudfiles/code/dstoolkit-mlops-v2/notebooks/01_train_remote.ipynb Cell 14\u001b[0m in \u001b[0;36m<cell line: 5>\u001b[0;34m()\u001b[0m\n\u001b[1;32m      <a href='vscode-notebook-cell://amlext%2B2f737562736372697074696f6e732f66383034663264612d633237622d343561632d626638302d3136643464333331373736642f7265736f7572636547726f7570732f72672d6d6c6f70737632636c61732d35303570726f642f70726f7669646572732f4d6963726f736f66742e4d616368696e654c6561726e696e6753657276696365732f776f726b7370616365732f6d6c772d6d6c6f70737632636c61732d35303570726f642f636f6d70757465732f616c6962696e6138/home/azureuser/cloudfiles/code/dstoolkit-mlops-v2/notebooks/01_train_remote.ipynb#X16sdnNjb2RlLXJlbW90ZQ%3D%3D?line=0'>1</a>\u001b[0m MODEL_PATH \u001b[39m=\u001b[39m \u001b[39m\"\u001b[39m\u001b[39mmodel\u001b[39m\u001b[39m\"\u001b[39m\n\u001b[1;32m      <a href='vscode-notebook-cell://amlext%2B2f737562736372697074696f6e732f66383034663264612d633237622d343561632d626638302d3136643464333331373736642f7265736f7572636547726f7570732f72672d6d6c6f70737632636c61732d35303570726f642f70726f7669646572732f4d6963726f736f66742e4d616368696e654c6561726e696e6753657276696365732f776f726b7370616365732f6d6c772d6d6c6f70737632636c61732d35303570726f642f636f6d70757465732f616c6962696e6138/home/azureuser/cloudfiles/code/dstoolkit-mlops-v2/notebooks/01_train_remote.ipynb#X16sdnNjb2RlLXJlbW90ZQ%3D%3D?line=2'>3</a>\u001b[0m model_name \u001b[39m=\u001b[39m \u001b[39m'\u001b[39m\u001b[39msklearn-iris-model\u001b[39m\u001b[39m'\u001b[39m\n\u001b[0;32m----> <a href='vscode-notebook-cell://amlext%2B2f737562736372697074696f6e732f66383034663264612d633237622d343561632d626638302d3136643464333331373736642f7265736f7572636547726f7570732f72672d6d6c6f70737632636c61732d35303570726f642f70726f7669646572732f4d6963726f736f66742e4d616368696e654c6561726e696e6753657276696365732f776f726b7370616365732f6d6c772d6d6c6f70737632636c61732d35303570726f642f636f6d70757465732f616c6962696e6138/home/azureuser/cloudfiles/code/dstoolkit-mlops-v2/notebooks/01_train_remote.ipynb#X16sdnNjb2RlLXJlbW90ZQ%3D%3D?line=4'>5</a>\u001b[0m ml_client\u001b[39m.\u001b[39;49mmodels\u001b[39m.\u001b[39;49mcreate_or_update(\n\u001b[1;32m      <a href='vscode-notebook-cell://amlext%2B2f737562736372697074696f6e732f66383034663264612d633237622d343561632d626638302d3136643464333331373736642f7265736f7572636547726f7570732f72672d6d6c6f70737632636c61732d35303570726f642f70726f7669646572732f4d6963726f736f66742e4d616368696e654c6561726e696e6753657276696365732f776f726b7370616365732f6d6c772d6d6c6f70737632636c61732d35303570726f642f636f6d70757465732f616c6962696e6138/home/azureuser/cloudfiles/code/dstoolkit-mlops-v2/notebooks/01_train_remote.ipynb#X16sdnNjb2RlLXJlbW90ZQ%3D%3D?line=5'>6</a>\u001b[0m     Model(\n\u001b[1;32m      <a href='vscode-notebook-cell://amlext%2B2f737562736372697074696f6e732f66383034663264612d633237622d343561632d626638302d3136643464333331373736642f7265736f7572636547726f7570732f72672d6d6c6f70737632636c61732d35303570726f642f70726f7669646572732f4d6963726f736f66742e4d616368696e654c6561726e696e6753657276696365732f776f726b7370616365732f6d6c772d6d6c6f70737632636c61732d35303570726f642f636f6d70757465732f616c6962696e6138/home/azureuser/cloudfiles/code/dstoolkit-mlops-v2/notebooks/01_train_remote.ipynb#X16sdnNjb2RlLXJlbW90ZQ%3D%3D?line=6'>7</a>\u001b[0m         path\u001b[39m=\u001b[39;49m\u001b[39mf\u001b[39;49m\u001b[39m\"\u001b[39;49m\u001b[39mazureml://jobs/\u001b[39;49m\u001b[39m{\u001b[39;49;00mreturned_job\u001b[39m.\u001b[39;49mname\u001b[39m}\u001b[39;49;00m\u001b[39m/outputs/artifacts/\u001b[39;49m\u001b[39m{\u001b[39;49;00mMODEL_PATH\u001b[39m}\u001b[39;49;00m\u001b[39m\"\u001b[39;49m,\n\u001b[1;32m      <a href='vscode-notebook-cell://amlext%2B2f737562736372697074696f6e732f66383034663264612d633237622d343561632d626638302d3136643464333331373736642f7265736f7572636547726f7570732f72672d6d6c6f70737632636c61732d35303570726f642f70726f7669646572732f4d6963726f736f66742e4d616368696e654c6561726e696e6753657276696365732f776f726b7370616365732f6d6c772d6d6c6f70737632636c61732d35303570726f642f636f6d70757465732f616c6962696e6138/home/azureuser/cloudfiles/code/dstoolkit-mlops-v2/notebooks/01_train_remote.ipynb#X16sdnNjb2RlLXJlbW90ZQ%3D%3D?line=7'>8</a>\u001b[0m         name\u001b[39m=\u001b[39;49mmodel_name,\n\u001b[1;32m      <a href='vscode-notebook-cell://amlext%2B2f737562736372697074696f6e732f66383034663264612d633237622d343561632d626638302d3136643464333331373736642f7265736f7572636547726f7570732f72672d6d6c6f70737632636c61732d35303570726f642f70726f7669646572732f4d6963726f736f66742e4d616368696e654c6561726e696e6753657276696365732f776f726b7370616365732f6d6c772d6d6c6f70737632636c61732d35303570726f642f636f6d70757465732f616c6962696e6138/home/azureuser/cloudfiles/code/dstoolkit-mlops-v2/notebooks/01_train_remote.ipynb#X16sdnNjb2RlLXJlbW90ZQ%3D%3D?line=8'>9</a>\u001b[0m         \u001b[39mtype\u001b[39;49m\u001b[39m=\u001b[39;49mAssetTypes\u001b[39m.\u001b[39;49mMLFLOW_MODEL\n\u001b[1;32m     <a href='vscode-notebook-cell://amlext%2B2f737562736372697074696f6e732f66383034663264612d633237622d343561632d626638302d3136643464333331373736642f7265736f7572636547726f7570732f72672d6d6c6f70737632636c61732d35303570726f642f70726f7669646572732f4d6963726f736f66742e4d616368696e654c6561726e696e6753657276696365732f776f726b7370616365732f6d6c772d6d6c6f70737632636c61732d35303570726f642f636f6d70757465732f616c6962696e6138/home/azureuser/cloudfiles/code/dstoolkit-mlops-v2/notebooks/01_train_remote.ipynb#X16sdnNjb2RlLXJlbW90ZQ%3D%3D?line=9'>10</a>\u001b[0m     )\n\u001b[1;32m     <a href='vscode-notebook-cell://amlext%2B2f737562736372697074696f6e732f66383034663264612d633237622d343561632d626638302d3136643464333331373736642f7265736f7572636547726f7570732f72672d6d6c6f70737632636c61732d35303570726f642f70726f7669646572732f4d6963726f736f66742e4d616368696e654c6561726e696e6753657276696365732f776f726b7370616365732f6d6c772d6d6c6f70737632636c61732d35303570726f642f636f6d70757465732f616c6962696e6138/home/azureuser/cloudfiles/code/dstoolkit-mlops-v2/notebooks/01_train_remote.ipynb#X16sdnNjb2RlLXJlbW90ZQ%3D%3D?line=10'>11</a>\u001b[0m )\n",
      "File \u001b[0;32m/anaconda/envs/azureml_py310_sdkv2/lib/python3.10/site-packages/azure/ai/ml/_telemetry/activity.py:263\u001b[0m, in \u001b[0;36mmonitor_with_activity.<locals>.monitor.<locals>.wrapper\u001b[0;34m(*args, **kwargs)\u001b[0m\n\u001b[1;32m    260\u001b[0m \u001b[39m@functools\u001b[39m\u001b[39m.\u001b[39mwraps(f)\n\u001b[1;32m    261\u001b[0m \u001b[39mdef\u001b[39;00m \u001b[39mwrapper\u001b[39m(\u001b[39m*\u001b[39margs, \u001b[39m*\u001b[39m\u001b[39m*\u001b[39mkwargs):\n\u001b[1;32m    262\u001b[0m     \u001b[39mwith\u001b[39;00m log_activity(logger, activity_name \u001b[39mor\u001b[39;00m f\u001b[39m.\u001b[39m\u001b[39m__name__\u001b[39m, activity_type, custom_dimensions):\n\u001b[0;32m--> 263\u001b[0m         \u001b[39mreturn\u001b[39;00m f(\u001b[39m*\u001b[39;49margs, \u001b[39m*\u001b[39;49m\u001b[39m*\u001b[39;49mkwargs)\n",
      "File \u001b[0;32m/anaconda/envs/azureml_py310_sdkv2/lib/python3.10/site-packages/azure/ai/ml/operations/_model_operations.py:235\u001b[0m, in \u001b[0;36mModelOperations.create_or_update\u001b[0;34m(self, model)\u001b[0m\n\u001b[1;32m    233\u001b[0m     log_and_raise_error(ex)\n\u001b[1;32m    234\u001b[0m \u001b[39melse\u001b[39;00m:\n\u001b[0;32m--> 235\u001b[0m     \u001b[39mraise\u001b[39;00m ex\n",
      "File \u001b[0;32m/anaconda/envs/azureml_py310_sdkv2/lib/python3.10/site-packages/azure/ai/ml/operations/_model_operations.py:223\u001b[0m, in \u001b[0;36mModelOperations.create_or_update\u001b[0;34m(self, model)\u001b[0m\n\u001b[1;32m    216\u001b[0m     \u001b[39mif\u001b[39;00m \u001b[39mstr\u001b[39m(e) \u001b[39m==\u001b[39m ASSET_PATH_ERROR:\n\u001b[1;32m    217\u001b[0m         \u001b[39mraise\u001b[39;00m AssetPathException(\n\u001b[1;32m    218\u001b[0m             message\u001b[39m=\u001b[39mCHANGED_ASSET_PATH_MSG,\n\u001b[1;32m    219\u001b[0m             target\u001b[39m=\u001b[39mErrorTarget\u001b[39m.\u001b[39mMODEL,\n\u001b[1;32m    220\u001b[0m             no_personal_data_message\u001b[39m=\u001b[39mCHANGED_ASSET_PATH_MSG_NO_PERSONAL_DATA,\n\u001b[1;32m    221\u001b[0m             error_category\u001b[39m=\u001b[39mErrorCategory\u001b[39m.\u001b[39mUSER_ERROR,\n\u001b[1;32m    222\u001b[0m         ) \u001b[39mfrom\u001b[39;00m \u001b[39me\u001b[39;00m\n\u001b[0;32m--> 223\u001b[0m     \u001b[39mraise\u001b[39;00m e\n\u001b[1;32m    225\u001b[0m model \u001b[39m=\u001b[39m Model\u001b[39m.\u001b[39m_from_rest_object(result)\n\u001b[1;32m    226\u001b[0m \u001b[39mif\u001b[39;00m auto_increment_version \u001b[39mand\u001b[39;00m indicator_file:\n",
      "File \u001b[0;32m/anaconda/envs/azureml_py310_sdkv2/lib/python3.10/site-packages/azure/ai/ml/operations/_model_operations.py:202\u001b[0m, in \u001b[0;36mModelOperations.create_or_update\u001b[0;34m(self, model)\u001b[0m\n\u001b[1;32m    191\u001b[0m auto_increment_version \u001b[39m=\u001b[39m model\u001b[39m.\u001b[39m_auto_increment_version\n\u001b[1;32m    192\u001b[0m \u001b[39mtry\u001b[39;00m:\n\u001b[1;32m    193\u001b[0m     result \u001b[39m=\u001b[39m (\n\u001b[1;32m    194\u001b[0m         \u001b[39mself\u001b[39m\u001b[39m.\u001b[39m_model_versions_operation\u001b[39m.\u001b[39mbegin_create_or_update(\n\u001b[1;32m    195\u001b[0m             name\u001b[39m=\u001b[39mname,\n\u001b[1;32m    196\u001b[0m             version\u001b[39m=\u001b[39mversion,\n\u001b[1;32m    197\u001b[0m             body\u001b[39m=\u001b[39mmodel_version_resource,\n\u001b[1;32m    198\u001b[0m             registry_name\u001b[39m=\u001b[39m\u001b[39mself\u001b[39m\u001b[39m.\u001b[39m_registry_name,\n\u001b[1;32m    199\u001b[0m             \u001b[39m*\u001b[39m\u001b[39m*\u001b[39m\u001b[39mself\u001b[39m\u001b[39m.\u001b[39m_scope_kwargs,\n\u001b[1;32m    200\u001b[0m         )\u001b[39m.\u001b[39mresult()\n\u001b[1;32m    201\u001b[0m         \u001b[39mif\u001b[39;00m \u001b[39mself\u001b[39m\u001b[39m.\u001b[39m_registry_name\n\u001b[0;32m--> 202\u001b[0m         \u001b[39melse\u001b[39;00m \u001b[39mself\u001b[39;49m\u001b[39m.\u001b[39;49m_model_versions_operation\u001b[39m.\u001b[39;49mcreate_or_update(\n\u001b[1;32m    203\u001b[0m             name\u001b[39m=\u001b[39;49mname,\n\u001b[1;32m    204\u001b[0m             version\u001b[39m=\u001b[39;49mversion,\n\u001b[1;32m    205\u001b[0m             body\u001b[39m=\u001b[39;49mmodel_version_resource,\n\u001b[1;32m    206\u001b[0m             workspace_name\u001b[39m=\u001b[39;49m\u001b[39mself\u001b[39;49m\u001b[39m.\u001b[39;49m_workspace_name,\n\u001b[1;32m    207\u001b[0m             \u001b[39m*\u001b[39;49m\u001b[39m*\u001b[39;49m\u001b[39mself\u001b[39;49m\u001b[39m.\u001b[39;49m_scope_kwargs,\n\u001b[1;32m    208\u001b[0m         )\n\u001b[1;32m    209\u001b[0m     )\n\u001b[1;32m    211\u001b[0m     \u001b[39mif\u001b[39;00m \u001b[39mnot\u001b[39;00m result \u001b[39mand\u001b[39;00m \u001b[39mself\u001b[39m\u001b[39m.\u001b[39m_registry_name:\n\u001b[1;32m    212\u001b[0m         result \u001b[39m=\u001b[39m \u001b[39mself\u001b[39m\u001b[39m.\u001b[39m_get(name\u001b[39m=\u001b[39mmodel\u001b[39m.\u001b[39mname, version\u001b[39m=\u001b[39mmodel\u001b[39m.\u001b[39mversion)\n",
      "File \u001b[0;32m/anaconda/envs/azureml_py310_sdkv2/lib/python3.10/site-packages/azure/core/tracing/decorator.py:78\u001b[0m, in \u001b[0;36mdistributed_trace.<locals>.decorator.<locals>.wrapper_use_tracer\u001b[0;34m(*args, **kwargs)\u001b[0m\n\u001b[1;32m     76\u001b[0m span_impl_type \u001b[39m=\u001b[39m settings\u001b[39m.\u001b[39mtracing_implementation()\n\u001b[1;32m     77\u001b[0m \u001b[39mif\u001b[39;00m span_impl_type \u001b[39mis\u001b[39;00m \u001b[39mNone\u001b[39;00m:\n\u001b[0;32m---> 78\u001b[0m     \u001b[39mreturn\u001b[39;00m func(\u001b[39m*\u001b[39;49margs, \u001b[39m*\u001b[39;49m\u001b[39m*\u001b[39;49mkwargs)\n\u001b[1;32m     80\u001b[0m \u001b[39m# Merge span is parameter is set, but only if no explicit parent are passed\u001b[39;00m\n\u001b[1;32m     81\u001b[0m \u001b[39mif\u001b[39;00m merge_span \u001b[39mand\u001b[39;00m \u001b[39mnot\u001b[39;00m passed_in_parent:\n",
      "File \u001b[0;32m/anaconda/envs/azureml_py310_sdkv2/lib/python3.10/site-packages/azure/ai/ml/_restclient/v2023_04_01_preview/operations/_model_versions_operations.py:650\u001b[0m, in \u001b[0;36mModelVersionsOperations.create_or_update\u001b[0;34m(self, resource_group_name, workspace_name, name, version, body, **kwargs)\u001b[0m\n\u001b[1;32m    648\u001b[0m     map_error(status_code\u001b[39m=\u001b[39mresponse\u001b[39m.\u001b[39mstatus_code, response\u001b[39m=\u001b[39mresponse, error_map\u001b[39m=\u001b[39merror_map)\n\u001b[1;32m    649\u001b[0m     error \u001b[39m=\u001b[39m \u001b[39mself\u001b[39m\u001b[39m.\u001b[39m_deserialize\u001b[39m.\u001b[39mfailsafe_deserialize(_models\u001b[39m.\u001b[39mErrorResponse, pipeline_response)\n\u001b[0;32m--> 650\u001b[0m     \u001b[39mraise\u001b[39;00m HttpResponseError(response\u001b[39m=\u001b[39mresponse, model\u001b[39m=\u001b[39merror, error_format\u001b[39m=\u001b[39mARMErrorFormat)\n\u001b[1;32m    652\u001b[0m \u001b[39mif\u001b[39;00m response\u001b[39m.\u001b[39mstatus_code \u001b[39m==\u001b[39m \u001b[39m200\u001b[39m:\n\u001b[1;32m    653\u001b[0m     deserialized \u001b[39m=\u001b[39m \u001b[39mself\u001b[39m\u001b[39m.\u001b[39m_deserialize(\u001b[39m'\u001b[39m\u001b[39mModelVersion\u001b[39m\u001b[39m'\u001b[39m, pipeline_response)\n",
      "\u001b[0;31mHttpResponseError\u001b[0m: (UserError) The request is invalid.\nCode: UserError\nMessage: The request is invalid.\nException Details:\t(NoMatchingArtifactsFoundFromJob) No artifacts matching model found from Job.\n\tCode: NoMatchingArtifactsFoundFromJob\n\tMessage: No artifacts matching model found from Job.\nAdditional Information:Type: ComponentName\nInfo: {\n    \"value\": \"managementfrontend\"\n}Type: Correlation\nInfo: {\n    \"value\": {\n        \"operation\": \"0666f2327249755dbc410a12b6193d03\",\n        \"request\": \"66b362c71ced1314\"\n    }\n}Type: Environment\nInfo: {\n    \"value\": \"westeurope\"\n}Type: Location\nInfo: {\n    \"value\": \"westeurope\"\n}Type: Time\nInfo: {\n    \"value\": \"2023-07-31T06:29:05.9645443+00:00\"\n}"
     ]
    }
   ],
   "source": [
    "\n",
    "MODEL_PATH = \"model\"\n",
    "\n",
    "model_name = 'sklearn-iris-model'\n",
    "\n",
    "ml_client.models.create_or_update(\n",
    "    Model(\n",
    "        path=f\"azureml://jobs/{returned_job.name}/outputs/artifacts/{MODEL_PATH}\",\n",
    "        name=model_name,\n",
    "        type=AssetTypes.MLFLOW_MODEL\n",
    "    )\n",
    ") "
   ]
  },
  {
   "cell_type": "code",
   "execution_count": null,
   "metadata": {},
   "outputs": [],
   "source": []
  }
 ],
 "metadata": {
  "kernelspec": {
   "display_name": "Python 3",
   "language": "python",
   "name": "python3"
  },
  "language_info": {
   "codemirror_mode": {
    "name": "ipython",
    "version": 3
   },
   "file_extension": ".py",
   "mimetype": "text/x-python",
   "name": "python",
   "nbconvert_exporter": "python",
   "pygments_lexer": "ipython3",
   "version": "3.10.6"
  },
  "orig_nbformat": 2
 },
 "nbformat": 4,
 "nbformat_minor": 2
}
